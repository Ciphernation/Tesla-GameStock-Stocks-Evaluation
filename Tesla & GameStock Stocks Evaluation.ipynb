{
 "cells": [
  {
   "cell_type": "code",
   "execution_count": 1,
   "id": "f3a05abe",
   "metadata": {},
   "outputs": [
    {
     "name": "stdout",
     "output_type": "stream",
     "text": [
      "Defaulting to user installation because normal site-packages is not writeable\n",
      "Collecting yfinance==0.2.4\n",
      "  Downloading yfinance-0.2.4-py2.py3-none-any.whl (51 kB)\n",
      "Collecting multitasking>=0.0.7\n",
      "  Downloading multitasking-0.0.11-py3-none-any.whl (8.5 kB)\n",
      "Requirement already satisfied: numpy>=1.16.5 in c:\\programdata\\anaconda3\\lib\\site-packages (from yfinance==0.2.4) (1.21.5)\n",
      "Collecting frozendict>=2.3.4\n",
      "  Downloading frozendict-2.3.8-cp39-cp39-win_amd64.whl (35 kB)\n",
      "Requirement already satisfied: pandas>=1.3.0 in c:\\programdata\\anaconda3\\lib\\site-packages (from yfinance==0.2.4) (1.4.2)\n",
      "Requirement already satisfied: requests>=2.26 in c:\\programdata\\anaconda3\\lib\\site-packages (from yfinance==0.2.4) (2.27.1)\n",
      "Collecting pytz>=2022.5\n",
      "  Downloading pytz-2023.3-py2.py3-none-any.whl (502 kB)\n",
      "Requirement already satisfied: appdirs>=1.4.4 in c:\\programdata\\anaconda3\\lib\\site-packages (from yfinance==0.2.4) (1.4.4)\n",
      "Requirement already satisfied: cryptography>=3.3.2 in c:\\programdata\\anaconda3\\lib\\site-packages (from yfinance==0.2.4) (3.4.8)\n",
      "Requirement already satisfied: beautifulsoup4>=4.11.1 in c:\\programdata\\anaconda3\\lib\\site-packages (from yfinance==0.2.4) (4.11.1)\n",
      "Collecting lxml>=4.9.1\n",
      "  Downloading lxml-4.9.2-cp39-cp39-win_amd64.whl (3.9 MB)\n",
      "Collecting html5lib>=1.1\n",
      "  Downloading html5lib-1.1-py2.py3-none-any.whl (112 kB)\n",
      "Requirement already satisfied: soupsieve>1.2 in c:\\programdata\\anaconda3\\lib\\site-packages (from beautifulsoup4>=4.11.1->yfinance==0.2.4) (2.3.1)\n",
      "Requirement already satisfied: cffi>=1.12 in c:\\programdata\\anaconda3\\lib\\site-packages (from cryptography>=3.3.2->yfinance==0.2.4) (1.15.0)\n",
      "Requirement already satisfied: pycparser in c:\\programdata\\anaconda3\\lib\\site-packages (from cffi>=1.12->cryptography>=3.3.2->yfinance==0.2.4) (2.21)\n",
      "Requirement already satisfied: six>=1.9 in c:\\programdata\\anaconda3\\lib\\site-packages (from html5lib>=1.1->yfinance==0.2.4) (1.16.0)\n",
      "Requirement already satisfied: webencodings in c:\\programdata\\anaconda3\\lib\\site-packages (from html5lib>=1.1->yfinance==0.2.4) (0.5.1)\n",
      "Requirement already satisfied: python-dateutil>=2.8.1 in c:\\programdata\\anaconda3\\lib\\site-packages (from pandas>=1.3.0->yfinance==0.2.4) (2.8.2)\n",
      "Requirement already satisfied: certifi>=2017.4.17 in c:\\programdata\\anaconda3\\lib\\site-packages (from requests>=2.26->yfinance==0.2.4) (2021.10.8)\n",
      "Requirement already satisfied: charset-normalizer~=2.0.0 in c:\\programdata\\anaconda3\\lib\\site-packages (from requests>=2.26->yfinance==0.2.4) (2.0.4)\n",
      "Requirement already satisfied: idna<4,>=2.5 in c:\\programdata\\anaconda3\\lib\\site-packages (from requests>=2.26->yfinance==0.2.4) (3.3)\n",
      "Requirement already satisfied: urllib3<1.27,>=1.21.1 in c:\\programdata\\anaconda3\\lib\\site-packages (from requests>=2.26->yfinance==0.2.4) (1.26.9)\n",
      "Installing collected packages: pytz, multitasking, lxml, html5lib, frozendict, yfinance\n",
      "Successfully installed frozendict-2.3.8 html5lib-1.1 lxml-4.9.2 multitasking-0.0.11 pytz-2023.3 yfinance-0.2.4\n"
     ]
    },
    {
     "name": "stderr",
     "output_type": "stream",
     "text": [
      "  WARNING: The script sample.exe is installed in 'C:\\Users\\muskan3\\AppData\\Roaming\\Python\\Python39\\Scripts' which is not on PATH.\n",
      "  Consider adding this directory to PATH or, if you prefer to suppress this warning, use --no-warn-script-location.\n",
      "ERROR: pip's dependency resolver does not currently take into account all the packages that are installed. This behaviour is the source of the following dependency conflicts.\n",
      "conda-repo-cli 1.0.4 requires pathlib, which is not installed.\n"
     ]
    }
   ],
   "source": [
    "!pip install yfinance==0.2.4"
   ]
  },
  {
   "cell_type": "code",
   "execution_count": 2,
   "id": "5c84cbfc",
   "metadata": {},
   "outputs": [],
   "source": [
    "!pip install yfinance\n",
    "#!pip install pandas\n",
    "#!pip install requests\n",
    "!pip install bs4\n",
    "#!pip install plotly"
   ]
  },
  {
   "cell_type": "code",
   "execution_count": 3,
   "id": "b1e2cb41",
   "metadata": {},
   "outputs": [],
   "source": [
    "import yfinance as yf\n",
    "import pandas as pd\n",
    "import requests\n",
    "from bs4 import BeautifulSoup\n",
    "import plotly.graph_objects as go\n",
    "from plotly.subplots import make_subplots"
   ]
  },
  {
   "cell_type": "code",
   "execution_count": null,
   "id": "cc6953cb",
   "metadata": {},
   "outputs": [],
   "source": [
    "def make_graph(stock_data, revenue_data, stock):\n",
    "    fig = make_subplots(rows=2, cols=1, shared_xaxes=True, subplot_titles=(\"Historical Share Price\", \"Historical Revenue\"), vertical_spacing = .3)\n",
    "    fig.add_trace(go.Scatter(x=pd.to_datetime(stock_data.Date, infer_datetime_format=True), y=stock_data.Close.astype(\"float\"), name=\"Share Price\"), row=1, col=1)\n",
    "    fig.add_trace(go.Scatter(x=pd.to_datetime(revenue_data.Date, infer_datetime_format=True), y=revenue_data.Revenue.astype(\"float\"), name=\"Revenue\"), row=2, col=1)\n",
    "    fig.update_xaxes(title_text=\"Date\", row=1, col=1)\n",
    "    fig.update_xaxes(title_text=\"Date\", row=2, col=1)\n",
    "    fig.update_yaxes(title_text=\"Price ($US)\", row=1, col=1)\n",
    "    fig.update_yaxes(title_text=\"Revenue ($US Millions)\", row=2, col=1)\n",
    "    fig.update_layout(showlegend=False,\n",
    "    height=900,\n",
    "    title=stock,\n",
    "    xaxis_rangeslider_visible=True)\n",
    "    fig.show()"
   ]
  },
  {
   "cell_type": "code",
   "execution_count": null,
   "id": "09fbc3eb",
   "metadata": {},
   "outputs": [],
   "source": []
  },
  {
   "cell_type": "code",
   "execution_count": null,
   "id": "899a1cd7",
   "metadata": {},
   "outputs": [],
   "source": []
  },
  {
   "cell_type": "markdown",
   "id": "dbcde563",
   "metadata": {},
   "source": [
    "## Extracting Tesla Stock Data Using yfinance"
   ]
  },
  {
   "cell_type": "code",
   "execution_count": null,
   "id": "c14c31a7",
   "metadata": {},
   "outputs": [],
   "source": [
    "tesla = yf.Ticker(\"TSLA\")"
   ]
  },
  {
   "cell_type": "code",
   "execution_count": null,
   "id": "b2d10191",
   "metadata": {},
   "outputs": [],
   "source": [
    "tesla_data = tesla.history(period = \"max\")"
   ]
  },
  {
   "cell_type": "code",
   "execution_count": null,
   "id": "24fd6b24",
   "metadata": {},
   "outputs": [],
   "source": [
    "tesla_data.reset_index(inplace=True)\n",
    "tesla_data.head()"
   ]
  },
  {
   "cell_type": "code",
   "execution_count": null,
   "id": "f7c301ac",
   "metadata": {},
   "outputs": [],
   "source": []
  },
  {
   "cell_type": "code",
   "execution_count": null,
   "id": "217f19ff",
   "metadata": {},
   "outputs": [],
   "source": []
  },
  {
   "cell_type": "markdown",
   "id": "7589297e",
   "metadata": {},
   "source": [
    "## Extracting Tesla Revenue Data Using Webscraping"
   ]
  },
  {
   "cell_type": "code",
   "execution_count": null,
   "id": "e1e2a39c",
   "metadata": {},
   "outputs": [],
   "source": [
    "url= \"https://www.macrotrends.net/stocks/charts/TSLA/tesla/revenue\"\n",
    "html_data = requests.get(url).text"
   ]
  },
  {
   "cell_type": "code",
   "execution_count": null,
   "id": "97a65b9f",
   "metadata": {},
   "outputs": [],
   "source": [
    "soup = BeautifulSoup(html_data,\"html.parser\")"
   ]
  },
  {
   "cell_type": "code",
   "execution_count": null,
   "id": "8b93ae17",
   "metadata": {},
   "outputs": [],
   "source": [
    "df=pd.read_html(html_data,header=0)\n",
    "table=soup.find_all('table')\n",
    "second_table= table[1]\n",
    "tesla_revenue= pd.DataFrame(columns=[\"Date\",\"Revenue\"])\n",
    "for row in second_table.find(\"tbody\").find_all(\"tr\"):\n",
    "    col= row.find_all('td')\n",
    "    date= col[0].string\n",
    "    revenue= col[1].string\n",
    "    tesla_revenue= tesla_revenue.append({\"Date\":date, \"Revenue\":revenue}, ignore_index = True)\n",
    "tesla_revenue[\"Revenue\"]= tesla_revenue['Revenue'].str.replace('$','').str.replace(',','')\n",
    "print(tesla_revenue)"
   ]
  },
  {
   "cell_type": "code",
   "execution_count": null,
   "id": "4e72fb0b",
   "metadata": {},
   "outputs": [],
   "source": [
    "tesla_revenue.dropna(subset=['Revenue'], inplace=True)\n",
    "for i in tesla_revenue : tesla_revenue[i] = tesla_revenue[i].astype(str)\n",
    "#tesla_revenue['Date'] = tesla_revenue['Date'].astype(str)\n",
    "#tesla_revenue['Revenue'] = tesla_revenue['Revenue'].astype(str)"
   ]
  },
  {
   "cell_type": "code",
   "execution_count": null,
   "id": "f7946226",
   "metadata": {},
   "outputs": [],
   "source": [
    "tesla_revenue.tail(5)"
   ]
  },
  {
   "cell_type": "code",
   "execution_count": null,
   "id": "b313ae0d",
   "metadata": {},
   "outputs": [],
   "source": []
  },
  {
   "cell_type": "code",
   "execution_count": null,
   "id": "1bd958d6",
   "metadata": {},
   "outputs": [],
   "source": []
  },
  {
   "cell_type": "markdown",
   "id": "1b412f85",
   "metadata": {},
   "source": [
    "## Extracting GameStop Stock Data Using yfinance"
   ]
  },
  {
   "cell_type": "code",
   "execution_count": null,
   "id": "1d7333be",
   "metadata": {},
   "outputs": [],
   "source": [
    "gamestop=yf.Ticker(\"GME\")"
   ]
  },
  {
   "cell_type": "code",
   "execution_count": null,
   "id": "34987f01",
   "metadata": {},
   "outputs": [],
   "source": [
    "gameStop_data = gamestop.history(period=\"max\")"
   ]
  },
  {
   "cell_type": "code",
   "execution_count": null,
   "id": "461c996c",
   "metadata": {},
   "outputs": [],
   "source": [
    "gameStop_data.reset_index(inplace=True)\n",
    "gameStop_data.head()"
   ]
  },
  {
   "cell_type": "code",
   "execution_count": null,
   "id": "90e6cc75",
   "metadata": {},
   "outputs": [],
   "source": []
  },
  {
   "cell_type": "code",
   "execution_count": null,
   "id": "fc43b44b",
   "metadata": {},
   "outputs": [],
   "source": []
  },
  {
   "cell_type": "markdown",
   "id": "67625788",
   "metadata": {},
   "source": [
    "## Extracting GameStop Revenue Data Using Webscraping"
   ]
  },
  {
   "cell_type": "code",
   "execution_count": null,
   "id": "db6663a2",
   "metadata": {},
   "outputs": [],
   "source": [
    "url= \"https://www.macrotrends.net/stocks/charts/GME/gamestop/revenue\"\n",
    "html_data = requests.get(url).text"
   ]
  },
  {
   "cell_type": "code",
   "execution_count": null,
   "id": "ac352366",
   "metadata": {},
   "outputs": [],
   "source": [
    "soup = BeautifulSoup(html_data,\"html.parser\")"
   ]
  },
  {
   "cell_type": "code",
   "execution_count": null,
   "id": "0f3ddeaf",
   "metadata": {},
   "outputs": [],
   "source": [
    "df=pd.read_html(html_data,header=0)\n",
    "table=soup.find_all('table')\n",
    "second_table= table[1]\n",
    "gme_revenue= pd.DataFrame(columns=[\"Date\",\"Revenue\"])\n",
    "for row in second_table.find(\"tbody\").find_all(\"tr\"):\n",
    "    col= row.find_all('td')\n",
    "    date= col[0].string\n",
    "    revenue= col[1].string\n",
    "    gme_revenue= gme_revenue.append({\"Date\":date, \"Revenue\":revenue}, ignore_index = True)\n",
    "gme_revenue[\"Revenue\"]= gme_revenue['Revenue'].str.replace('$','').str.replace(',','')\n",
    "\n",
    "gme_revenue.dropna(subset=['Revenue'], inplace=True)\n",
    "for i in gme_revenue : gme_revenue[i] = gme_revenue[i].astype(str)\n",
    "print(gme_revenue)"
   ]
  },
  {
   "cell_type": "code",
   "execution_count": null,
   "id": "d7db1b81",
   "metadata": {},
   "outputs": [],
   "source": [
    "gme_revenue.tail()"
   ]
  },
  {
   "cell_type": "code",
   "execution_count": null,
   "id": "640000ac",
   "metadata": {},
   "outputs": [],
   "source": []
  },
  {
   "cell_type": "code",
   "execution_count": null,
   "id": "2088ad41",
   "metadata": {},
   "outputs": [],
   "source": []
  },
  {
   "cell_type": "markdown",
   "id": "13e6aca3",
   "metadata": {},
   "source": [
    "## Tesla Stock and Revenue Dashboard"
   ]
  },
  {
   "cell_type": "code",
   "execution_count": null,
   "id": "42996cda",
   "metadata": {},
   "outputs": [],
   "source": [
    "make_graph(tesla_data,tesla_revenue,\"Tesla Stock Data\")"
   ]
  },
  {
   "cell_type": "code",
   "execution_count": null,
   "id": "7834b20f",
   "metadata": {},
   "outputs": [],
   "source": []
  },
  {
   "cell_type": "code",
   "execution_count": null,
   "id": "d5294906",
   "metadata": {},
   "outputs": [],
   "source": []
  },
  {
   "cell_type": "markdown",
   "id": "d2cca137",
   "metadata": {},
   "source": [
    "## GameStop Stock and Revenue Dashboard"
   ]
  },
  {
   "cell_type": "code",
   "execution_count": null,
   "id": "53ccb62f",
   "metadata": {},
   "outputs": [],
   "source": [
    "make_graph(gameStop_data,gme_revenue,\"GameStop Stock Data\")"
   ]
  },
  {
   "cell_type": "code",
   "execution_count": null,
   "id": "92f2265c",
   "metadata": {},
   "outputs": [],
   "source": []
  }
 ],
 "metadata": {
  "kernelspec": {
   "display_name": "Python 3 (ipykernel)",
   "language": "python",
   "name": "python3"
  },
  "language_info": {
   "codemirror_mode": {
    "name": "ipython",
    "version": 3
   },
   "file_extension": ".py",
   "mimetype": "text/x-python",
   "name": "python",
   "nbconvert_exporter": "python",
   "pygments_lexer": "ipython3",
   "version": "3.9.12"
  }
 },
 "nbformat": 4,
 "nbformat_minor": 5
}
